{
 "cells": [
  {
   "cell_type": "markdown",
   "id": "2608bb34-9d1b-40ff-957d-21ce7e02b25b",
   "metadata": {},
   "source": [
    "# 3D image of the UM Mars simulation"
   ]
  },
  {
   "cell_type": "code",
   "execution_count": null,
   "id": "54d07378-30da-46ff-8f2e-123291c5ab98",
   "metadata": {
    "tags": []
   },
   "outputs": [],
   "source": [
    "%unload_ext jupyternotify"
   ]
  },
  {
   "cell_type": "code",
   "execution_count": null,
   "id": "0ded7a5c-f1e6-4c77-b1e9-7bf5db89ffac",
   "metadata": {
    "tags": []
   },
   "outputs": [],
   "source": [
    "from pathlib import Path\n",
    "\n",
    "import sys\n",
    "import iris\n",
    "import iris.quickplot as qplt\n",
    "import matplotlib as mpl\n",
    "import matplotlib.pyplot as plt\n",
    "import numpy as np\n",
    "import pyvista as pv\n",
    "from aeolus.calc import time_mean as t_m \n",
    "from aeolus.calc import spatial_mean as s_m\n",
    "from aeolus.calc import zonal_mean as z_m\n",
    "from aeolus.calc import vertical_mean as v_m\n",
    "from aeolus.calc import meridional_mean as m_m\n",
    "from aeolus.coord import isel, regrid_3d\n",
    "from aeolus.plot.pv import grid_for_scalar_cube_sph, grid_for_vector_cubes_sph\n",
    "from scipy.ndimage import gaussian_filter\n",
    "from aeolus.model import um\n",
    "import datetime \n",
    "import time\n",
    "import meshio\n",
    "pv.set_plot_theme(\"document\")\n",
    "pv.set_jupyter_backend(\"static\") \n",
    "# Enable below instead if using a headless display\n",
    "# pv.set_jupyter_backend(None) \n",
    "import warnings\n",
    "\n",
    "warnings.filterwarnings(\"ignore\")\n",
    "start_time = time.time()\n",
    "out_direc = '' # Output directory for plots\n",
    "in_direc = '' # Input directory for data\n"
   ]
  },
  {
   "cell_type": "code",
   "execution_count": null,
   "id": "746fb0df-01fc-47ff-b6cd-e430e61243a9",
   "metadata": {
    "tags": []
   },
   "outputs": [],
   "source": [
    "%%time\n",
    "## Load in the test files\n",
    "cl = iris.load(f\"{in_direc}example_data.nc\")\n",
    "sfc_alt = iris.load_cube(f\"{in_direc}mola_x32.nc\",\"MOLA height\")\n",
    "\n",
    "# warp_alt_hr = pv.read(\"H:/MRes/Thesis/warp_alt_x16.vtk\")"
   ]
  },
  {
   "cell_type": "code",
   "execution_count": null,
   "id": "7f12aa82-6db0-48d5-afda-590eadf866e3",
   "metadata": {
    "tags": []
   },
   "outputs": [],
   "source": []
  },
  {
   "cell_type": "code",
   "execution_count": null,
   "id": "a827133f-ce41-4d39-9640-9824731852ff",
   "metadata": {
    "tags": []
   },
   "outputs": [],
   "source": [
    "from pympler import asizeof\n",
    "asizeof.asizeof(cl)"
   ]
  },
  {
   "cell_type": "code",
   "execution_count": null,
   "id": "5fa16a7a-1125-413e-a565-07acf0cbf4cb",
   "metadata": {
    "tags": []
   },
   "outputs": [],
   "source": [
    "# warp_alt_hr = warp_alt_hr.warp_by_scalar(scalars=\"sfc_alt\", factor=30)"
   ]
  },
  {
   "cell_type": "code",
   "execution_count": null,
   "id": "5b8b826f-4083-4853-8f60-f31a1348c1d5",
   "metadata": {
    "tags": []
   },
   "outputs": [],
   "source": [
    "RADIUS = 3_389_500  # Planet radius [m]\n",
    "z_scale = 100.0  # Scale of planet in relation to other variables\n",
    "z_offset = RADIUS * 1.01  # Offset for winds\n"
   ]
  },
  {
   "cell_type": "markdown",
   "id": "b87a9e9a-22d2-475f-b60e-5d7735d17445",
   "metadata": {},
   "source": [
    "Orography"
   ]
  },
  {
   "cell_type": "code",
   "execution_count": null,
   "id": "72e9fc3a-e91b-4ed6-97a3-0bf59ab29898",
   "metadata": {
    "tags": []
   },
   "outputs": [],
   "source": [
    "%time poly_data_alt = grid_for_scalar_cube_sph(sfc_alt, z_offset=RADIUS, label=\"sfc_alt\")\n",
    "# Convert structured grid to a polydata object\n",
    "%time poly_data_alt = poly_data_alt.cell_data_to_point_data().extract_geometry()\n",
    "# Compute normals from the scalar data\n",
    "%time poly_data_alt.compute_normals(cell_normals=False, inplace=True)\n",
    "# Now use those normals to warp the surface\n",
    "%time warp_alt_lr = poly_data_alt.warp_by_scalar(scalars=\"sfc_alt\", factor=15)"
   ]
  },
  {
   "cell_type": "markdown",
   "id": "e1efe863-d3d2-42fb-9742-a4973f7d0429",
   "metadata": {},
   "source": [
    "Winds"
   ]
  },
  {
   "cell_type": "code",
   "execution_count": null,
   "id": "c3f7212a-41a2-41c2-8cdf-554f5d1820b8",
   "metadata": {
    "tags": []
   },
   "outputs": [],
   "source": [
    "wind_levels = [1000]  # [m]\n",
    "# multiple levels:\n",
    "# wind_levels = [2000, 5000, 10000]  # [m]\n",
    "\n",
    "lev_constr = iris.Constraint(level_height=lambda x: x in wind_levels)\n",
    "\n",
    "winds = [\n",
    "    cl.extract_cube(\"x_wind\").extract(lev_constr),\n",
    "    cl.extract_cube(\"y_wind\").extract(lev_constr),\n",
    "    cl.extract_cube(\"upward_air_velocity\").extract(lev_constr),\n",
    "]"
   ]
  },
  {
   "cell_type": "code",
   "execution_count": null,
   "id": "a066e548-88aa-452b-90f0-83107a2388a0",
   "metadata": {
    "tags": []
   },
   "outputs": [],
   "source": [
    "grid_vec = grid_for_vector_cubes_sph(\n",
    "    *winds,\n",
    "    vector_scale=RADIUS * 0.003,\n",
    "    vertical_wind_scale=1e2,\n",
    "    z_scale=z_scale,\n",
    "    z_offset=z_offset,\n",
    "    xstride=1,\n",
    "    ystride=1,\n",
    "    label=\"winds\"\n",
    ")"
   ]
  },
  {
   "cell_type": "code",
   "execution_count": null,
   "id": "2cae3e96-69b9-434d-ba60-41a99fef122c",
   "metadata": {
    "tags": []
   },
   "outputs": [],
   "source": [
    "glyphs = grid_vec.glyph(\n",
    "    orient=\"winds\",\n",
    "    scale=\"winds\",\n",
    "    tolerance=0.015 # How many vectors per unit volume to show, i.e. the density of arrows\n",
    ")"
   ]
  },
  {
   "cell_type": "markdown",
   "id": "ff7793c2-15c9-4656-97be-e4400c6ae7a7",
   "metadata": {},
   "source": [
    "Dust"
   ]
  },
  {
   "cell_type": "markdown",
   "id": "d28c054c-71f7-4e8f-9998-25eb53e60648",
   "metadata": {},
   "source": [
    "The cell below has been omitted as the dust .nc file is quite large, a post processed value has been added instead. However, if you would like access to the larger dataset, which includes dust across the year and entire planet, please just get in touch. The code below can then be toggled to load in the full dataset instead of the extracted dataset."
   ]
  },
  {
   "cell_type": "code",
   "execution_count": null,
   "id": "7853e727-4376-402f-ba64-b6ab51322dbf",
   "metadata": {
    "tags": []
   },
   "outputs": [],
   "source": [
    "load_full_data = False\n",
    "if load_full_data == True:\n",
    "    dust_cube   = iris.load_cube(f\"{in_direc}total_dust*\", 'unknown') # Load in combined dust field, bins 1-6 summed\n",
    "\n",
    "    tcoord= dust_cube.coord('time')\n",
    "    # time_constr = iris.Constraint(time=lambda t: t.point == tcoord.units.num2date(tcoord.points[500])) # Useful for extracting singular time slices\n",
    "\n",
    "    times = [tcoord.units.num2date(tcoord.points[i]) for i in range(400,451,1)]  # selects every timestep along the target hour\n",
    "    dust_cube_t=dust_cube.extract(iris.Constraint(time=lambda t: t.point in times))\n",
    "    dust_cube_t = t_m(dust_cube_t)\n",
    "\n",
    "    # Select the region you want to extract dust values for, with the first value being the lat and the second value being the lon\n",
    "    dust_cube_tx = dust_cube_t.extract(iris.Constraint(latitude=(lambda x: -85<=x.point<=85),longitude=(lambda x: -20<=x.point<=200))) \n",
    "else:\n",
    "    dust_cube_tx = iris.load_cube(f\"{in_direc}dust_cube_tx.nc\")\n",
    "dust_cube_tx"
   ]
  },
  {
   "cell_type": "code",
   "execution_count": null,
   "id": "c37a37d6-d46b-4313-92a3-28a538472d3c",
   "metadata": {
    "tags": []
   },
   "outputs": [],
   "source": [
    "z_scale = 100.0\n",
    "z_offset_d = RADIUS * 1.02\n",
    "TOPLEV = 30\n",
    "DLEV = 2  # use every 2nd level\n",
    "DY = 1  # stride along y-coordinate\n",
    "DX = 1  # stride along x-coordinate\n",
    "dust_isosurface = [1]"
   ]
  },
  {
   "cell_type": "code",
   "execution_count": null,
   "id": "7ce4ccf3-4ccc-46f4-93fc-a933f9b9ce00",
   "metadata": {
    "tags": []
   },
   "outputs": [],
   "source": [
    "dust_isosurface = [1]\n",
    "global_qct_cntr = grid_for_scalar_cube_sph(\n",
    "        dust_cube_tx[:TOPLEV, ::, ::], z_scale=z_scale, z_offset=z_offset_d , label=\"dust\").cell_data_to_point_data().contour()\n",
    "\n",
    "lam_grid = grid_for_scalar_cube_sph(\n",
    "    dust_cube_tx[:TOPLEV, ::, ::],\n",
    "    z_scale=z_scale,\n",
    "    z_offset=z_offset_d,\n",
    "    label=\"um_qct_grid\",\n",
    ")\n",
    "lam_qct_cntr = lam_grid.cell_data_to_point_data().contour()\n",
    "# glob_qct_cntr = global_qct_cntr.cell_data_to_point_data().contour()\n",
    "\n",
    "# Create the grid skeleton\n",
    "lam_dom = (\n",
    "    grid_for_scalar_cube_sph(\n",
    "        dust_cube_tx[:TOPLEV-DLEV+1, ::1, ::1],  # show every DLEV grid point\n",
    "        z_scale=z_scale,\n",
    "        z_offset=z_offset,\n",
    "        label=\"lam_dom\",\n",
    "    )\n",
    "    .extract_geometry()\n",
    "    .extract_all_edges()\n",
    ")"
   ]
  },
  {
   "cell_type": "code",
   "execution_count": null,
   "id": "39b32262-fabb-4f94-82e5-a7b15c463a1f",
   "metadata": {
    "tags": []
   },
   "outputs": [],
   "source": [
    "VIS_CONTAINER = [\n",
    "    {\n",
    "        # Dust concentration\n",
    "        \"mesh\": lam_qct_cntr,\n",
    "        \"kwargs\": {\n",
    "            \"cmap\": \"brewer_OrRd_09\",\n",
    "            # \"clim\": [1e-17, 1e-5], #add a limit to the dust concentrations shown\n",
    "            \"opacity\": 0.9,\n",
    "            \"show_scalar_bar\": False,\n",
    "            \"specular\": 0.5, #default = 0\n",
    "            \"specular_power\": 128, #Between 0-128\n",
    "            \"ambient\": 0.6,\n",
    "            \"diffuse\":0.2,\n",
    "            \"culling\":False, #default = False, options = Front/Back\n",
    "            \"log_scale\":False, #default = True\n",
    "            \"roughness\":0.5, #default = 0.5, (0=rough, 1=glossy)\n",
    "            \"smooth_shading\": False,\n",
    "            \"pbr\":False, #defauklt\n",
    "            \"metallic\":0  #Only use ifPBR is on\n",
    "        }\n",
    "    },\n",
    "    {\n",
    "        # Grid box\n",
    "        \"mesh\": lam_dom,\n",
    "        \"kwargs\": {\n",
    "            \"style\": \"wireframe\",\n",
    "            \"color\": \"k\",\n",
    "            \"opacity\": 0.1,\n",
    "            \"smooth_shading\": True,\n",
    "            },\n",
    "        }\n",
    "]"
   ]
  },
  {
   "cell_type": "markdown",
   "id": "83149e56-a78e-44e7-bdf7-9deaae03f55f",
   "metadata": {},
   "source": [
    "Plot"
   ]
  },
  {
   "cell_type": "code",
   "execution_count": null,
   "id": "8c1de3d4-44df-4a71-b237-133739d35a6b",
   "metadata": {
    "tags": []
   },
   "outputs": [],
   "source": [
    "# Create a custom colormap for the orography\n",
    "custom_cmap = mpl.colors.LinearSegmentedColormap.from_list(\"custom\", [\"red\",\"orange\",\"yellow\"])"
   ]
  },
  {
   "cell_type": "code",
   "execution_count": null,
   "id": "88beb18e-3134-486d-83ed-8ff9636bc6f7",
   "metadata": {
    "tags": []
   },
   "outputs": [],
   "source": [
    "plot = 'l_r'\n",
    "p = pv.Plotter(window_size=[12000, 12000],off_screen=True)\n",
    "if plot == 'h_r':\n",
    "    p.add_mesh(warp_alt_hr, cmap=\"brewer_Reds_09\", show_scalar_bar=False)\n",
    "else:\n",
    "    p.add_mesh(warp_alt_lr, cmap=\"brewer_OrRd_09\", show_scalar_bar=False)\n",
    "for plot_dict in VIS_CONTAINER:\n",
    "       p.add_mesh(plot_dict[\"mesh\"], **plot_dict[\"kwargs\"])\n",
    "# p.add_mesh(lam_qct_cntr)\n",
    "# p.add_mesh(lam_dom, style= 'wireframe' ,color =  'k', opacity = 0.1, smooth_shading= True)\n",
    "# p.add_mesh(poly_data_dust, opacity = 0.5)\n",
    "p.add_mesh(glyphs, scalars=\"GlyphScale\", show_scalar_bar=False)\n",
    "p.set_position(pv.grid_from_sph_coords([270], [90], [2.1e7]).points)  # [lon], [lat], [zoom]\n",
    "p.set_focus((0, 0, 0))\n",
    "p.set_viewup((0, 0, 1))\n",
    "p.screenshot(str(f'{out_direc}3D_render_image.png'), transparent_background=False)\n",
    "p.show(auto_close=False)"
   ]
  }
 ],
 "metadata": {
  "kernelspec": {
   "display_name": "Python 3 (ipykernel)",
   "language": "python",
   "name": "python3"
  },
  "language_info": {
   "codemirror_mode": {
    "name": "ipython",
    "version": 3
   },
   "file_extension": ".py",
   "mimetype": "text/x-python",
   "name": "python",
   "nbconvert_exporter": "python",
   "pygments_lexer": "ipython3",
   "version": "3.8.13"
  }
 },
 "nbformat": 4,
 "nbformat_minor": 5
}
